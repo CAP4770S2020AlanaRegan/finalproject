{
 "cells": [
  {
   "cell_type": "markdown",
   "metadata": {},
   "source": [
    "# Setup"
   ]
  },
  {
   "cell_type": "markdown",
   "metadata": {},
   "source": [
    "First obtain dependencies"
   ]
  },
  {
   "cell_type": "code",
   "execution_count": 2,
   "metadata": {
    "colab": {},
    "colab_type": "code",
    "collapsed": true,
    "id": "Y4CJ2heZZHA2"
   },
   "outputs": [],
   "source": [
    "# Pyspark SQL\n",
    "from pyspark.sql import SQLContext\n",
    "sqlContext = SQLContext(sc)"
   ]
  },
  {
   "cell_type": "code",
   "execution_count": 3,
   "metadata": {
    "collapsed": true
   },
   "outputs": [],
   "source": [
    "# scikit\n",
    "import sklearn\n",
    "from scipy.io import loadmat\n",
    "from sklearn.naive_bayes import MultinomialNB"
   ]
  },
  {
   "cell_type": "code",
   "execution_count": 4,
   "metadata": {
    "collapsed": false
   },
   "outputs": [
    {
     "name": "stdout",
     "output_type": "stream",
     "text": [
      "Requirement already satisfied (use --upgrade to upgrade): langdetect in ./anaconda3/lib/python3.5/site-packages\n",
      "Requirement already satisfied (use --upgrade to upgrade): six in ./anaconda3/lib/python3.5/site-packages (from langdetect)\n",
      "\u001b[33mYou are using pip version 8.1.2, however version 20.0.2 is available.\n",
      "You should consider upgrading via the 'pip install --upgrade pip' command.\u001b[0m\n"
     ]
    }
   ],
   "source": [
    "# Install a pip package (langdetect) in the current Jupyter kernel\n",
    "import sys\n",
    "!{sys.executable} -m pip install langdetect"
   ]
  },
  {
   "cell_type": "code",
   "execution_count": 5,
   "metadata": {
    "collapsed": true
   },
   "outputs": [],
   "source": [
    "%load_ext autoreload\n",
    "%autoreload 2"
   ]
  },
  {
   "cell_type": "markdown",
   "metadata": {},
   "source": [
    "Fill in the following data"
   ]
  },
  {
   "cell_type": "code",
   "execution_count": 6,
   "metadata": {
    "collapsed": false
   },
   "outputs": [],
   "source": [
    "# Login information\n",
    "# username = # AWS Username\n",
    "# password = # AWS Password\n",
    "# region = \"us-east-1\" # Change if different from your AWS region\n",
    "\n"
   ]
  },
  {
   "cell_type": "markdown",
   "metadata": {},
   "source": [
    "Connect to the AWS resources"
   ]
  },
  {
   "cell_type": "code",
   "execution_count": 7,
   "metadata": {
    "colab": {},
    "colab_type": "code",
    "collapsed": true,
    "id": "CluCfBnlZHA7"
   },
   "outputs": [],
   "source": [
    "sc.setSystemProperty(\"com.amazonaws.services.s3.enableV4\", \"true\")\n",
    "sc._jsc.hadoopConfiguration().set(\"fs.s3a.awsAccessKeyId\", username)\n",
    "sc._jsc.hadoopConfiguration().set(\"fs.s3a.awsSecretAccessKey\", password)\n",
    "sc._jsc.hadoopConfiguration().set(\"fs.s3a.endpoint\", \"s3.\" + region + \".amazonaws.com\")"
   ]
  },
  {
   "cell_type": "code",
   "execution_count": 8,
   "metadata": {
    "collapsed": true
   },
   "outputs": [],
   "source": [
    "df = sqlContext.read.format(\"csv\").option(\"header\", \"true\").load(s3)"
   ]
  },
  {
   "cell_type": "markdown",
   "metadata": {},
   "source": [
    "Test to confirm the dataset was obtained"
   ]
  },
  {
   "cell_type": "code",
   "execution_count": 9,
   "metadata": {
    "collapsed": false
   },
   "outputs": [
    {
     "data": {
      "text/plain": [
       "[Row(book_authors='Suzanne Collins', book_desc=\"Winning will make you famous. Losing means certain death.The nation of Panem, formed from a post-apocalyptic North America, is a country that consists of a wealthy Capitol region surrounded by 12 poorer districts. Early in its history, a rebellion led by a 13th district against the Capitol resulted in its destruction and the creation of an annual televised event known as the Hunger Games. In punishment, and as a reminder of the power and grace of the Capitol, each district must yield one boy and one girl between the ages of 12 and 18 through a lottery system to participate in the games. The 'tributes' are chosen during the annual Reaping and are forced to fight to the death, leaving only one survivor to claim victory.When 16-year-old Katniss's young sister, Prim, is selected as District 12's female representative, Katniss volunteers to take her place. She and her male counterpart Peeta, are pitted against bigger, stronger representatives, some of whom have trained for this their whole lives. , she sees it as a death sentence. But Katniss has been close to death before. For her, survival is second nature.\", book_edition=None, book_format='Hardcover', book_isbn='9.78044E+12', book_pages='374 pages', book_rating='4.33', book_rating_count='5519135', book_review_count='160706', book_title='The Hunger Games', genres='Young Adult|Fiction|Science Fiction|Dystopia|Fantasy|Science Fiction', image_url='https://images.gr-assets.com/books/1447303603l/2767052.jpg'),\n",
       " Row(book_authors='J.K. Rowling|Mary GrandPré', book_desc='There is a door at the end of a silent corridor. And it’s haunting Harry Pottter’s dreams. Why else would he be waking in the middle of the night, screaming in terror?Harry has a lot on his mind for this, his fifth year at Hogwarts: a Defense Against the Dark Arts teacher with a personality like poisoned honey; a big surprise on the Gryffindor Quidditch team; and the looming terror of the Ordinary Wizarding Level exams. But all these things pale next to the growing threat of He-Who-Must-Not-Be-Named---a threat that neither the magical government nor the authorities at Hogwarts can stop.As the grasp of darkness tightens, Harry must discover the true depth and strength of his friends, the importance of boundless loyalty, and the shocking price of unbearable sacrifice.His fate depends on them alll.(back cover)', book_edition='US Edition', book_format='Paperback', book_isbn='9.78044E+12', book_pages='870 pages', book_rating='4.48', book_rating_count='2041594', book_review_count='33264', book_title='Harry Potter and the Order of the Phoenix', genres='Fantasy|Young Adult|Fiction', image_url='https://images.gr-assets.com/books/1255614970l/2.jpg'),\n",
       " Row(book_authors='Harper Lee', book_desc='The unforgettable novel of a childhood in a sleepy Southern town and the crisis of conscience that rocked it, To Kill A Mockingbird became both an instant bestseller and a critical success when it was first published in 1960. It went on to win the Pulitzer Prize in 1961 and was later made into an Academy Award-winning film, also a classic.Compassionate, dramatic, and deeply moving, To Kill A Mockingbird takes readers to the roots of human behavior - to innocence and experience, kindness and cruelty, love and hatred, humor and pathos. Now with over 18 million copies in print and translated into forty languages, this regional story by a young Alabama woman claims universal appeal. Harper Lee always considered her book to be a simple love story. Today it is regarded as a masterpiece of American literature.', book_edition='50th Anniversary', book_format='Paperback', book_isbn='9.78006E+12', book_pages='324 pages', book_rating='4.27', book_rating_count='3745197', book_review_count='79450', book_title='To Kill a Mockingbird', genres='Classics|Fiction|Historical|Historical Fiction|Academic|School', image_url='https://images.gr-assets.com/books/1361975680l/2657.jpg')]"
      ]
     },
     "execution_count": 9,
     "metadata": {},
     "output_type": "execute_result"
    }
   ],
   "source": [
    "smalldf = df.take(3)\n",
    "smalldf"
   ]
  },
  {
   "cell_type": "code",
   "execution_count": null,
   "metadata": {
    "collapsed": false
   },
   "outputs": [],
   "source": []
  },
  {
   "cell_type": "markdown",
   "metadata": {},
   "source": [
    "# Project"
   ]
  },
  {
   "cell_type": "code",
   "execution_count": 10,
   "metadata": {
    "collapsed": false
   },
   "outputs": [],
   "source": [
    "rdd = df.rdd.map(tuple)"
   ]
  },
  {
   "cell_type": "code",
   "execution_count": null,
   "metadata": {
    "collapsed": true
   },
   "outputs": [],
   "source": []
  },
  {
   "cell_type": "code",
   "execution_count": 11,
   "metadata": {
    "collapsed": false
   },
   "outputs": [],
   "source": [
    "small = sc.parallelize(rdd.take(10))"
   ]
  },
  {
   "cell_type": "code",
   "execution_count": null,
   "metadata": {
    "collapsed": false
   },
   "outputs": [],
   "source": [
    "\n",
    "\n"
   ]
  },
  {
   "cell_type": "markdown",
   "metadata": {},
   "source": [
    "## Preprocessing"
   ]
  },
  {
   "cell_type": "code",
   "execution_count": 12,
   "metadata": {
    "collapsed": false
   },
   "outputs": [],
   "source": [
    "from langdetect import detect\n",
    "\n",
    "def remove_nonenglish(row):\n",
    "    '''\n",
    "    Removes records that have invalid descriptions from the dataframe\n",
    "    Input: dataframe\n",
    "    Output: Cleaned up dataframe\n",
    "    '''\n",
    "    try:\n",
    "        lang=detect(row[1])\n",
    "        if (lang == 'en'): \n",
    "            return True\n",
    "        else: \n",
    "            return False\n",
    "    except:\n",
    "        return False\n",
    "\n",
    "def replace_punc_with_space(desc):\n",
    "    \n",
    "    upd_desc=''\n",
    "    \n",
    "    for i in range(len(desc)-1):\n",
    "        upd_desc+=desc[i]\n",
    "        if desc[i].islower() and desc[i+1].isupper():\n",
    "            upd_desc+=' '\n",
    "    \n",
    "    upd_desc+=desc[-1]\n",
    "    return upd_desc \n",
    "\n",
    "def remove_punc(row):\n",
    "    desc = row[1]\n",
    "    \n",
    "    desc=replace_punc_with_space(desc)    \n",
    "    desc=desc.lower() \n",
    "    desc = \"\".join([\" \" if char in ['.', ',', '?', '!', '(', ')', '/', ';', ':'] else char for char in desc])\n",
    "    desc = \"\".join([\"\" if char in ['\\''] else char for char in desc])\n",
    "    \n",
    "    lst = list(row)\n",
    "    lst[1] = desc\n",
    "    tup = tuple(lst)\n",
    "\n",
    "    return tup\n",
    "\n",
    "\n",
    "    \n",
    "    "
   ]
  },
  {
   "cell_type": "code",
   "execution_count": 13,
   "metadata": {
    "collapsed": false
   },
   "outputs": [],
   "source": [
    "small = small.filter(remove_nonenglish).map(remove_punc)\n"
   ]
  },
  {
   "cell_type": "code",
   "execution_count": 14,
   "metadata": {
    "collapsed": true
   },
   "outputs": [],
   "source": [
    "def genre_to_array(row):\n",
    "    genres = row[10]\n",
    "    glist = []\n",
    "    if(genres is not None): glist = genres.split('|')\n",
    "    \n",
    "    lst = list(row)\n",
    "    lst[10] = glist\n",
    "    tup = tuple(lst)\n",
    "\n",
    "    return tup"
   ]
  },
  {
   "cell_type": "code",
   "execution_count": 15,
   "metadata": {
    "collapsed": true
   },
   "outputs": [],
   "source": [
    "small = small.map(genre_to_array)"
   ]
  },
  {
   "cell_type": "code",
   "execution_count": 16,
   "metadata": {
    "collapsed": false
   },
   "outputs": [
    {
     "data": {
      "text/plain": [
       "[('Suzanne Collins',\n",
       "  'winning will make you famous  losing means certain death the nation of panem  formed from a post-apocalyptic north america  is a country that consists of a wealthy capitol region surrounded by 12 poorer districts  early in its history  a rebellion led by a 13th district against the capitol resulted in its destruction and the creation of an annual televised event known as the hunger games  in punishment  and as a reminder of the power and grace of the capitol  each district must yield one boy and one girl between the ages of 12 and 18 through a lottery system to participate in the games  the tributes are chosen during the annual reaping and are forced to fight to the death  leaving only one survivor to claim victory when 16-year-old katnisss young sister  prim  is selected as district 12s female representative  katniss volunteers to take her place  she and her male counterpart peeta  are pitted against bigger  stronger representatives  some of whom have trained for this their whole lives    she sees it as a death sentence  but katniss has been close to death before  for her  survival is second nature ',\n",
       "  None,\n",
       "  'Hardcover',\n",
       "  '9.78044E+12',\n",
       "  '374 pages',\n",
       "  '4.33',\n",
       "  '5519135',\n",
       "  '160706',\n",
       "  'The Hunger Games',\n",
       "  ['Young Adult',\n",
       "   'Fiction',\n",
       "   'Science Fiction',\n",
       "   'Dystopia',\n",
       "   'Fantasy',\n",
       "   'Science Fiction'],\n",
       "  'https://images.gr-assets.com/books/1447303603l/2767052.jpg'),\n",
       " ('J.K. Rowling|Mary GrandPré',\n",
       "  'there is a door at the end of a silent corridor  and it’s haunting harry pottter’s dreams  why else would he be waking in the middle of the night  screaming in terror harry has a lot on his mind for this  his fifth year at hogwarts  a defense against the dark arts teacher with a personality like poisoned honey  a big surprise on the gryffindor quidditch team  and the looming terror of the ordinary wizarding level exams  but all these things pale next to the growing threat of he-who-must-not-be-named---a threat that neither the magical government nor the authorities at hogwarts can stop as the grasp of darkness tightens  harry must discover the true depth and strength of his friends  the importance of boundless loyalty  and the shocking price of unbearable sacrifice his fate depends on them alll  back cover ',\n",
       "  'US Edition',\n",
       "  'Paperback',\n",
       "  '9.78044E+12',\n",
       "  '870 pages',\n",
       "  '4.48',\n",
       "  '2041594',\n",
       "  '33264',\n",
       "  'Harry Potter and the Order of the Phoenix',\n",
       "  ['Fantasy', 'Young Adult', 'Fiction'],\n",
       "  'https://images.gr-assets.com/books/1255614970l/2.jpg'),\n",
       " ('Harper Lee',\n",
       "  'the unforgettable novel of a childhood in a sleepy southern town and the crisis of conscience that rocked it  to kill a mockingbird became both an instant bestseller and a critical success when it was first published in 1960  it went on to win the pulitzer prize in 1961 and was later made into an academy award-winning film  also a classic compassionate  dramatic  and deeply moving  to kill a mockingbird takes readers to the roots of human behavior - to innocence and experience  kindness and cruelty  love and hatred  humor and pathos  now with over 18 million copies in print and translated into forty languages  this regional story by a young alabama woman claims universal appeal  harper lee always considered her book to be a simple love story  today it is regarded as a masterpiece of american literature ',\n",
       "  '50th Anniversary',\n",
       "  'Paperback',\n",
       "  '9.78006E+12',\n",
       "  '324 pages',\n",
       "  '4.27',\n",
       "  '3745197',\n",
       "  '79450',\n",
       "  'To Kill a Mockingbird',\n",
       "  ['Classics',\n",
       "   'Fiction',\n",
       "   'Historical',\n",
       "   'Historical Fiction',\n",
       "   'Academic',\n",
       "   'School'],\n",
       "  'https://images.gr-assets.com/books/1361975680l/2657.jpg'),\n",
       " ('Stephenie Meyer',\n",
       "  'about three things i was absolutely positive first  edward was a vampire second  there was a part of him—and i didnt know how dominant that part might be—that thirsted for my blood and third  i was unconditionally and irrevocably in love with him in the first book of the twilight saga  internationally bestselling author stephenie meyer introduces bella swan and edward cullen  a pair of star-crossed lovers whose forbidden relationship ripens against the backdrop of small-town suspicion and a mysterious coven of vampires  this is a love story with bite ',\n",
       "  None,\n",
       "  'Paperback',\n",
       "  '9.78032E+12',\n",
       "  '498 pages',\n",
       "  '3.58',\n",
       "  '4281268',\n",
       "  '97991',\n",
       "  'Twilight',\n",
       "  ['Young Adult',\n",
       "   'Fantasy',\n",
       "   'Romance',\n",
       "   'Paranormal',\n",
       "   'Vampires',\n",
       "   'Fiction',\n",
       "   'Fantasy',\n",
       "   'Paranormal'],\n",
       "  'https://images.gr-assets.com/books/1361039443l/41865.jpg'),\n",
       " ('Markus Zusak',\n",
       "  'trying to make sense of the horrors of world war ii  death relates the story of liesel--a young german girl whose book-stealing and story-telling talents help sustain her family and the jewish man they are hiding  as well as their neighbors ',\n",
       "  'First American Edition (US / CAN)',\n",
       "  'Hardcover',\n",
       "  '9.78038E+12',\n",
       "  '552 pages',\n",
       "  '4.36',\n",
       "  '1485632',\n",
       "  '100821',\n",
       "  'The Book Thief',\n",
       "  ['Historical', 'Historical Fiction', 'Fiction', 'Young Adult'],\n",
       "  'https://images.gr-assets.com/books/1522157426l/19063.jpg'),\n",
       " ('C.S. Lewis|Pauline Baynes',\n",
       "  'journeys to the end of the world  fantastic creatures  and epic battles between good and evil—what more could any reader ask for in one book  the book that has it all is the lion  the witch and the wardrobe  written in 1949 by clive staples lewis  but lewis did not stop there  six more books followed  and together they became known as the chronicles of narnia for the past fifty years  the chronicles of narnia have transcended the fantasy genre to become part of the canon of classic literature  each of the seven books is a masterpiece  drawing the reader into a land where magic meets reality  and the result is a fictional world whose scope has fascinated generations this edition presents all seven books—unabridged—in one impressive volume  the books are presented here in chronlogical order  each chapter graced with an illustration by the original artist  pauline baynes  deceptively simple and direct  the chronicles of narnia continue to captivate fans with adventures  characters  and truths that speak to readers of all ages  even fifty years after they were first published ',\n",
       "  'Reissue Edition',\n",
       "  'Paperback',\n",
       "  '9.78007E+12',\n",
       "  '767 pages',\n",
       "  '4.25',\n",
       "  '437829',\n",
       "  '9439',\n",
       "  'The Chronicles of Narnia',\n",
       "  ['Fantasy', 'Classics', 'Fiction', 'Young Adult', 'Childrens'],\n",
       "  'https://images.gr-assets.com/books/1449868701l/11127.jpg'),\n",
       " ('Margaret Mitchell',\n",
       "  'gone with the wind is a novel written by margaret mitchell  first published in 1936  the story is set in clayton county  georgia  and atlanta during the american civil war and reconstruction era  it depicts the struggles of young scarlett ohara  the daughter of a well-to-do plantation owner  who must use every means at her disposal to claw her way out of the poverty she finds herself in after shermans march to the sea  a historical novel  the story is a bildungsroman or coming-of-age story  with the title taken from a poem written by ernest dowson ',\n",
       "  None,\n",
       "  'Paperback',\n",
       "  '9.78045E+12',\n",
       "  '1037 pages',\n",
       "  '4.29',\n",
       "  '969181',\n",
       "  '17452',\n",
       "  'Gone with the Wind',\n",
       "  ['Classics',\n",
       "   'Historical',\n",
       "   'Historical Fiction',\n",
       "   'Fiction',\n",
       "   'Romance',\n",
       "   'Historical'],\n",
       "  'https://images.gr-assets.com/books/1328025229l/18405.jpg')]"
      ]
     },
     "execution_count": 16,
     "metadata": {},
     "output_type": "execute_result"
    }
   ],
   "source": [
    "small.collect()"
   ]
  },
  {
   "cell_type": "code",
   "execution_count": 14,
   "metadata": {
    "collapsed": false
   },
   "outputs": [],
   "source": [
    "# RDD.collect()"
   ]
  },
  {
   "cell_type": "code",
   "execution_count": 17,
   "metadata": {
    "collapsed": true
   },
   "outputs": [],
   "source": [
    "rdd_filtered = rdd.filter(remove_nonenglish).map(remove_punc).map(genre_to_array)"
   ]
  },
  {
   "cell_type": "code",
   "execution_count": 18,
   "metadata": {
    "collapsed": false
   },
   "outputs": [
    {
     "data": {
      "text/plain": [
       "[('Suzanne Collins',\n",
       "  'winning will make you famous  losing means certain death the nation of panem  formed from a post-apocalyptic north america  is a country that consists of a wealthy capitol region surrounded by 12 poorer districts  early in its history  a rebellion led by a 13th district against the capitol resulted in its destruction and the creation of an annual televised event known as the hunger games  in punishment  and as a reminder of the power and grace of the capitol  each district must yield one boy and one girl between the ages of 12 and 18 through a lottery system to participate in the games  the tributes are chosen during the annual reaping and are forced to fight to the death  leaving only one survivor to claim victory when 16-year-old katnisss young sister  prim  is selected as district 12s female representative  katniss volunteers to take her place  she and her male counterpart peeta  are pitted against bigger  stronger representatives  some of whom have trained for this their whole lives    she sees it as a death sentence  but katniss has been close to death before  for her  survival is second nature ',\n",
       "  None,\n",
       "  'Hardcover',\n",
       "  '9.78044E+12',\n",
       "  '374 pages',\n",
       "  '4.33',\n",
       "  '5519135',\n",
       "  '160706',\n",
       "  'The Hunger Games',\n",
       "  ['Young Adult',\n",
       "   'Fiction',\n",
       "   'Science Fiction',\n",
       "   'Dystopia',\n",
       "   'Fantasy',\n",
       "   'Science Fiction'],\n",
       "  'https://images.gr-assets.com/books/1447303603l/2767052.jpg'),\n",
       " ('J.K. Rowling|Mary GrandPré',\n",
       "  'there is a door at the end of a silent corridor  and it’s haunting harry pottter’s dreams  why else would he be waking in the middle of the night  screaming in terror harry has a lot on his mind for this  his fifth year at hogwarts  a defense against the dark arts teacher with a personality like poisoned honey  a big surprise on the gryffindor quidditch team  and the looming terror of the ordinary wizarding level exams  but all these things pale next to the growing threat of he-who-must-not-be-named---a threat that neither the magical government nor the authorities at hogwarts can stop as the grasp of darkness tightens  harry must discover the true depth and strength of his friends  the importance of boundless loyalty  and the shocking price of unbearable sacrifice his fate depends on them alll  back cover ',\n",
       "  'US Edition',\n",
       "  'Paperback',\n",
       "  '9.78044E+12',\n",
       "  '870 pages',\n",
       "  '4.48',\n",
       "  '2041594',\n",
       "  '33264',\n",
       "  'Harry Potter and the Order of the Phoenix',\n",
       "  ['Fantasy', 'Young Adult', 'Fiction'],\n",
       "  'https://images.gr-assets.com/books/1255614970l/2.jpg'),\n",
       " ('Harper Lee',\n",
       "  'the unforgettable novel of a childhood in a sleepy southern town and the crisis of conscience that rocked it  to kill a mockingbird became both an instant bestseller and a critical success when it was first published in 1960  it went on to win the pulitzer prize in 1961 and was later made into an academy award-winning film  also a classic compassionate  dramatic  and deeply moving  to kill a mockingbird takes readers to the roots of human behavior - to innocence and experience  kindness and cruelty  love and hatred  humor and pathos  now with over 18 million copies in print and translated into forty languages  this regional story by a young alabama woman claims universal appeal  harper lee always considered her book to be a simple love story  today it is regarded as a masterpiece of american literature ',\n",
       "  '50th Anniversary',\n",
       "  'Paperback',\n",
       "  '9.78006E+12',\n",
       "  '324 pages',\n",
       "  '4.27',\n",
       "  '3745197',\n",
       "  '79450',\n",
       "  'To Kill a Mockingbird',\n",
       "  ['Classics',\n",
       "   'Fiction',\n",
       "   'Historical',\n",
       "   'Historical Fiction',\n",
       "   'Academic',\n",
       "   'School'],\n",
       "  'https://images.gr-assets.com/books/1361975680l/2657.jpg')]"
      ]
     },
     "execution_count": 18,
     "metadata": {},
     "output_type": "execute_result"
    }
   ],
   "source": [
    "rdd_filtered.take(3)"
   ]
  },
  {
   "cell_type": "markdown",
   "metadata": {
    "colab_type": "text",
    "id": "bYdGn8tsZHBQ"
   },
   "source": [
    "### TF/IDF\n",
    "\n",
    "One thing that will need to happen is to use regex to transform the genres into a dataframe"
   ]
  },
  {
   "cell_type": "code",
   "execution_count": 68,
   "metadata": {
    "collapsed": false
   },
   "outputs": [
    {
     "data": {
      "text/plain": [
       "['book_authors',\n",
       " 'book_desc',\n",
       " 'book_edition',\n",
       " 'book_format',\n",
       " 'book_isbn',\n",
       " 'book_pages',\n",
       " 'book_rating',\n",
       " 'book_rating_count',\n",
       " 'book_review_count',\n",
       " 'book_title',\n",
       " 'genres',\n",
       " 'image_url']"
      ]
     },
     "execution_count": 68,
     "metadata": {},
     "output_type": "execute_result"
    }
   ],
   "source": [
    "header_df = df.schema.names\n",
    "header_df\n",
    "\n",
    "# TO DO\n",
    "# SEE ERROR BELOW"
   ]
  },
  {
   "cell_type": "markdown",
   "metadata": {},
   "source": [
    "### Training and Testing datsets\n",
    "\n",
    "Currently using ~10% of the dataset (can be adjusted)."
   ]
  },
  {
   "cell_type": "code",
   "execution_count": 66,
   "metadata": {
    "colab": {},
    "colab_type": "code",
    "collapsed": true,
    "id": "KDzYkE5MZHBF"
   },
   "outputs": [],
   "source": [
    "# train, test = df.randomSplit([0.1, 0.9])\n",
    "\n",
    "# train_desc = train.select('book_desc').collect()\n",
    "# train_genre = train.select('genres').collect()\n",
    "\n",
    "# test_desc = test.select('book_desc').collect()\n",
    "# test_genre = test.select('genres').collect()"
   ]
  },
  {
   "cell_type": "markdown",
   "metadata": {},
   "source": [
    "### Bayes Classification"
   ]
  },
  {
   "cell_type": "code",
   "execution_count": 3,
   "metadata": {
    "collapsed": false
   },
   "outputs": [],
   "source": [
    "# model = MultinomialNB().fit(train_desc, train_genre)\n",
    "# score = model.score(test_desc, test_genre)\n",
    "# score"
   ]
  },
  {
   "cell_type": "code",
   "execution_count": null,
   "metadata": {
    "collapsed": true
   },
   "outputs": [],
   "source": []
  },
  {
   "cell_type": "code",
   "execution_count": null,
   "metadata": {
    "collapsed": true
   },
   "outputs": [],
   "source": []
  }
 ],
 "metadata": {
  "anaconda-cloud": {},
  "colab": {
   "collapsed_sections": [],
   "name": "FinalProject.ipynb",
   "provenance": []
  },
  "kernelspec": {
   "display_name": "Python [default]",
   "language": "python",
   "name": "python3"
  },
  "language_info": {
   "codemirror_mode": {
    "name": "ipython",
    "version": 3
   },
   "file_extension": ".py",
   "mimetype": "text/x-python",
   "name": "python",
   "nbconvert_exporter": "python",
   "pygments_lexer": "ipython3",
   "version": "3.5.2"
  }
 },
 "nbformat": 4,
 "nbformat_minor": 1
}
