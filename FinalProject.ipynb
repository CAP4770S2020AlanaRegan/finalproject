{
  "nbformat": 4,
  "nbformat_minor": 0,
  "metadata": {
    "anaconda-cloud": {},
    "kernelspec": {
      "display_name": "Python [default]",
      "language": "python",
      "name": "python3"
    },
    "language_info": {
      "codemirror_mode": {
        "name": "ipython",
        "version": 3
      },
      "file_extension": ".py",
      "mimetype": "text/x-python",
      "name": "python",
      "nbconvert_exporter": "python",
      "pygments_lexer": "ipython3",
      "version": "3.5.2"
    },
    "colab": {
      "name": "FinalProject.ipynb",
      "provenance": [],
      "collapsed_sections": []
    }
  },
  "cells": [
    {
      "cell_type": "code",
      "metadata": {
        "id": "Y4CJ2heZZHA2",
        "colab_type": "code",
        "colab": {}
      },
      "source": [
        "from pyspark.sql import SQLContext \n",
        "sqlContext = SQLContext(sc)\n"
      ],
      "execution_count": 0,
      "outputs": []
    },
    {
      "cell_type": "code",
      "metadata": {
        "id": "CluCfBnlZHA7",
        "colab_type": "code",
        "colab": {}
      },
      "source": [
        "# Define username and password here\n",
        "\n",
        "region = \"us-east-2\" \n",
        "sc.setSystemProperty(\"com.amazonaws.services.s3.enableV4\", \"true\")\n",
        "sc._jsc.hadoopConfiguration().set(\"fs.s3a.awsAccessKeyId\", username)\n",
        "sc._jsc.hadoopConfiguration().set(\"fs.s3a.awsSecretAccessKey\", password)\n",
        "sc._jsc.hadoopConfiguration().set(\"fs.s3a.endpoint\", \"s3.\" + region + \".amazonaws.com\")"
      ],
      "execution_count": 0,
      "outputs": []
    },
    {
      "cell_type": "code",
      "metadata": {
        "id": "DLshQBAlZHBA",
        "colab_type": "code",
        "colab": {}
      },
      "source": [
        "# load string if you need to\n",
        "\n",
        "df = sqlContext.read.format(\"csv\").option(\"header\", \"true\").load(\"s3a://ds-2020-regan/book_data.csv\")"
      ],
      "execution_count": 0,
      "outputs": []
    },
    {
      "cell_type": "code",
      "metadata": {
        "id": "KDzYkE5MZHBF",
        "colab_type": "code",
        "colab": {}
      },
      "source": [
        "smalldf = df.take(10)\n",
        "\n",
        "\n"
      ],
      "execution_count": 0,
      "outputs": []
    },
    {
      "cell_type": "code",
      "metadata": {
        "id": "wW-HwqbuZHBK",
        "colab_type": "code",
        "colab": {},
        "outputId": "bd27d157-af5c-4e89-df19-a8c131d14045"
      },
      "source": [
        "smalldf\n",
        "\n"
      ],
      "execution_count": 0,
      "outputs": [
        {
          "output_type": "execute_result",
          "data": {
            "text/plain": [
              "[Row(book_authors='Suzanne Collins', book_desc=\"Winning will make you famous. Losing means certain death.The nation of Panem, formed from a post-apocalyptic North America, is a country that consists of a wealthy Capitol region surrounded by 12 poorer districts. Early in its history, a rebellion led by a 13th district against the Capitol resulted in its destruction and the creation of an annual televised event known as the Hunger Games. In punishment, and as a reminder of the power and grace of the Capitol, each district must yield one boy and one girl between the ages of 12 and 18 through a lottery system to participate in the games. The 'tributes' are chosen during the annual Reaping and are forced to fight to the death, leaving only one survivor to claim victory.When 16-year-old Katniss's young sister, Prim, is selected as District 12's female representative, Katniss volunteers to take her place. She and her male counterpart Peeta, are pitted against bigger, stronger representatives, some of whom have trained for this their whole lives. , she sees it as a death sentence. But Katniss has been close to death before. For her, survival is second nature.\", book_edition=None, book_format='Hardcover', book_isbn='9.78044E+12', book_pages='374 pages', book_rating='4.33', book_rating_count='5519135', book_review_count='160706', book_title='The Hunger Games', genres='Young Adult|Fiction|Science Fiction|Dystopia|Fantasy|Science Fiction', image_url='https://images.gr-assets.com/books/1447303603l/2767052.jpg'),\n",
              " Row(book_authors='J.K. Rowling|Mary GrandPré', book_desc='There is a door at the end of a silent corridor. And it’s haunting Harry Pottter’s dreams. Why else would he be waking in the middle of the night, screaming in terror?Harry has a lot on his mind for this, his fifth year at Hogwarts: a Defense Against the Dark Arts teacher with a personality like poisoned honey; a big surprise on the Gryffindor Quidditch team; and the looming terror of the Ordinary Wizarding Level exams. But all these things pale next to the growing threat of He-Who-Must-Not-Be-Named---a threat that neither the magical government nor the authorities at Hogwarts can stop.As the grasp of darkness tightens, Harry must discover the true depth and strength of his friends, the importance of boundless loyalty, and the shocking price of unbearable sacrifice.His fate depends on them alll.(back cover)', book_edition='US Edition', book_format='Paperback', book_isbn='9.78044E+12', book_pages='870 pages', book_rating='4.48', book_rating_count='2041594', book_review_count='33264', book_title='Harry Potter and the Order of the Phoenix', genres='Fantasy|Young Adult|Fiction', image_url='https://images.gr-assets.com/books/1255614970l/2.jpg'),\n",
              " Row(book_authors='Harper Lee', book_desc='The unforgettable novel of a childhood in a sleepy Southern town and the crisis of conscience that rocked it, To Kill A Mockingbird became both an instant bestseller and a critical success when it was first published in 1960. It went on to win the Pulitzer Prize in 1961 and was later made into an Academy Award-winning film, also a classic.Compassionate, dramatic, and deeply moving, To Kill A Mockingbird takes readers to the roots of human behavior - to innocence and experience, kindness and cruelty, love and hatred, humor and pathos. Now with over 18 million copies in print and translated into forty languages, this regional story by a young Alabama woman claims universal appeal. Harper Lee always considered her book to be a simple love story. Today it is regarded as a masterpiece of American literature.', book_edition='50th Anniversary', book_format='Paperback', book_isbn='9.78006E+12', book_pages='324 pages', book_rating='4.27', book_rating_count='3745197', book_review_count='79450', book_title='To Kill a Mockingbird', genres='Classics|Fiction|Historical|Historical Fiction|Academic|School', image_url='https://images.gr-assets.com/books/1361975680l/2657.jpg'),\n",
              " Row(book_authors='Jane Austen|Anna Quindlen|Mrs. Oliphant|George Saintsbury|Mark Twain|A.C. Bradley|Walter A. Raleigh|Virginia Woolf', book_desc=\"«È cosa ormai risaputa che a uno scapolo in possesso di un'ingente fortuna manchi soltanto una moglie. Questa verità è cosí radicata nella mente delle famiglie del luoho che, nel momento in cui un simile personaggio viene a far parte del vicinato, prima ancora di conoscere anche lontanamente i suoi desiderî in proposito, viene immediatamente considerato come proprietà legittima di una o l'altra delle loro figlie.»Orgoglio e pregiudizio è uno dei primi romanzi di Jane Austen. La scrittrice lo iniziò a ventun anni; il libro, rifiutato da un editore londinese, rimase in un cassetto fino alla sua pubblicazione anonima nel 1813, e da allora è considerato tra i piú importanti romanzi della letteratura inglese. È la storia delle cinque sorelle Bennet e dei loro corteggiatori, con al centro il romantico contrasto tra l'adorabile e capricciosa Elizabeth e l'altezzoso Darcy; lo spirito di osservazione implacabile e quasi cinico, lo studio arguto dei caratteri, la satira delle vanità e delle debolezze della vita domestica, fanno di questo romanzo una delle piú efficaci e indimenticabili commedie di costume del periodo Regency inglese.\", book_edition='Modern Library Classics, USA / CAN', book_format='Paperback', book_isbn='9.78068E+12', book_pages='279 pages', book_rating='4.25', book_rating_count='2453620', book_review_count='54322', book_title='Pride and Prejudice', genres='Classics|Fiction|Romance', image_url='https://images.gr-assets.com/books/1320399351l/1885.jpg'),\n",
              " Row(book_authors='Stephenie Meyer', book_desc=\"About three things I was absolutely positive.First, Edward was a vampire.Second, there was a part of him—and I didn't know how dominant that part might be—that thirsted for my blood.And third, I was unconditionally and irrevocably in love with him.In the first book of the Twilight Saga, internationally bestselling author Stephenie Meyer introduces Bella Swan and Edward Cullen, a pair of star-crossed lovers whose forbidden relationship ripens against the backdrop of small-town suspicion and a mysterious coven of vampires. This is a love story with bite.\", book_edition=None, book_format='Paperback', book_isbn='9.78032E+12', book_pages='498 pages', book_rating='3.58', book_rating_count='4281268', book_review_count='97991', book_title='Twilight', genres='Young Adult|Fantasy|Romance|Paranormal|Vampires|Fiction|Fantasy|Paranormal', image_url='https://images.gr-assets.com/books/1361039443l/41865.jpg'),\n",
              " Row(book_authors='Markus Zusak', book_desc='Trying to make sense of the horrors of World War II, Death relates the story of Liesel--a young German girl whose book-stealing and story-telling talents help sustain her family and the Jewish man they are hiding, as well as their neighbors.', book_edition='First American Edition (US / CAN)', book_format='Hardcover', book_isbn='9.78038E+12', book_pages='552 pages', book_rating='4.36', book_rating_count='1485632', book_review_count='100821', book_title='The Book Thief', genres='Historical|Historical Fiction|Fiction|Young Adult', image_url='https://images.gr-assets.com/books/1522157426l/19063.jpg'),\n",
              " Row(book_authors='C.S. Lewis|Pauline Baynes', book_desc='Journeys to the end of the world, fantastic creatures, and epic battles between good and evil—what more could any reader ask for in one book? The book that has it all is The Lion, the Witch and the Wardrobe, written in 1949 by Clive Staples Lewis. But Lewis did not stop there. Six more books followed, and together they became known as The Chronicles of Narnia.For the past fifty years, The Chronicles of Narnia have transcended the fantasy genre to become part of the canon of classic literature. Each of the seven books is a masterpiece, drawing the reader into a land where magic meets reality, and the result is a fictional world whose scope has fascinated generations.This edition presents all seven books—unabridged—in one impressive volume. The books are presented here in chronlogical order, each chapter graced with an illustration by the original artist, Pauline Baynes. Deceptively simple and direct, The Chronicles of Narnia continue to captivate fans with adventures, characters, and truths that speak to readers of all ages, even fifty years after they were first published.', book_edition='Reissue Edition', book_format='Paperback', book_isbn='9.78007E+12', book_pages='767 pages', book_rating='4.25', book_rating_count='437829', book_review_count='9439', book_title='The Chronicles of Narnia', genres='Fantasy|Classics|Fiction|Young Adult|Childrens', image_url='https://images.gr-assets.com/books/1449868701l/11127.jpg'),\n",
              " Row(book_authors='George Orwell', book_desc='مزرعة الحيوانات هي رائعة جورج أورويل الخالدة.. اختيرت دائمًا ضمن أفضل الأعمال الأدبية في القرن العشرين .. تُرجمت لأكثر من سبعين لغة.. وقرأها الملايين في كل أنحاء العالم.. طُبعت هذه الرواية الأشهر لكاتبها للمرة الأولى في عام 1945 .. وتحكى عن مجموعة من الحيوانات قررت القيام بثورة ضد مالك المزرعة لتحكم نفسها بنفسها وتتولى شئون حياتها. وهنا برع أورويل في أن يُجرى نوعًا من الحكمة السياسية الساخرة والممتعة على ألسنة الحيوانات، تكشف التناقض الحاد بين الشعارات الثورية وممارسات الحكام بعد الثورة، على خلفية نقده اللاذع للديكتاتور السوفيتي جوزيف ستالين.. لكنه يتجاوز ذلك أيضًا ليغوص بعيدًا في أعماق الحيوانات التي منها ــ وليس على رأسها ــ الإنسان.يعتبر جورج أورويل 1903-1950 من أهم الكُـتَّاب البريطانيين في القرن العشرين. ولد في الهند وعمل في بورما بالشرطة البريطانية، عاش فقرا مدقعًا في لندن وباريس، وتطوع عام 1936 ليحارب في صفوف الجمهوريين في إسبانيا ضد قوات فرانكو الفاشية، ثم عمل بهيئة الإذاعة البريطانية وكمحرر وصحفي حتى نهاية حياته. اهتم أورويل طوال حياته بالدفاع عن المظلومين والحق والديمقراطية ومحاربة الدكتاتورية والفقر والظلم. وكتب الشعر والمقال الصحفي والمذكرات والرواية. من أهم رواياته مزرعة الحيوانات و1984', book_edition=None, book_format='Paperback', book_isbn='9.78045E+12', book_pages='122 pages', book_rating='3.9', book_rating_count='2235084', book_review_count='42156', book_title='Animal Farm', genres='Classics|Fiction|Science Fiction|Dystopia|Fantasy|Literature|Academic|School|Politics|Science Fiction|Novels|Academic|Read For School', image_url='https://images.gr-assets.com/books/1424037542l/7613.jpg'),\n",
              " Row(book_authors='Margaret Mitchell', book_desc=\"Gone with the Wind is a novel written by Margaret Mitchell, first published in 1936. The story is set in Clayton County, Georgia, and Atlanta during the American Civil War and Reconstruction era. It depicts the struggles of young Scarlett O'Hara, the daughter of a well-to-do plantation owner, who must use every means at her disposal to claw her way out of the poverty she finds herself in after Sherman's March to the Sea. A historical novel, the story is a Bildungsroman or coming-of-age story, with the title taken from a poem written by Ernest Dowson.\", book_edition=None, book_format='Paperback', book_isbn='9.78045E+12', book_pages='1037 pages', book_rating='4.29', book_rating_count='969181', book_review_count='17452', book_title='Gone with the Wind', genres='Classics|Historical|Historical Fiction|Fiction|Romance|Historical', image_url='https://images.gr-assets.com/books/1328025229l/18405.jpg'),\n",
              " Row(book_authors='J.R.R. Tolkien', book_desc='لجزء الثالث من ملحمة جيه أر أر تولكين الرائعة سيد الخواتم دخل أفراد رفقة الخاتم فى مغامرات منفصلة أثناء إنجاز المهمة وسيرها فى طريق التنفيذ - اما أراجون الذى كشف أنه الوريث الخلفى لملوك الغرب القدامى فقد أنضم إلى خيالة روهان ضد قوى أيزنجارد وأشترك فى نصر هورنبرج الذى تحقق بصعوبة وبأس - أما ميرى وبيبين كانا قد تعرضا للإختطاف من جانب الأوركيين فقد هربا إلى غابة فانجون وهناك قابلا الأنتيين وعاد جاندالف فيما يشبة المعجزة وهزم الساحر الشرير سارومان وفى نفس الوقت فإن سام وفرودو راحا يتقدمان بإتجاه موردو لتدمير الخاتم وبرفقتهما سميجول - جولام وهو لا يزال مهووسا ب شيئة الثمين وبعد معركة مع أنثى العنكبوت العملاق شيلوب ترك سام سيده طنا منه أنه مات ولكن فرودو كان لا يزال على قيد الحياة فى أيدى الأوركيين وكانت جيوش سيد الظلام تتجمع بإستمرار', book_edition='Hobbit Movie Tie-in Boxed set', book_format='Mass Market Paperback', book_isbn='9.78035E+12', book_pages='1728 pages', book_rating='4.59', book_rating_count='99793', book_review_count='1652', book_title='J.R.R. Tolkien 4-Book Boxed Set: The Hobbit and The Lord of the Rings', genres='Fantasy|Fiction|Classics', image_url='https://images.gr-assets.com/books/1346072396l/30.jpg')]"
            ]
          },
          "metadata": {
            "tags": []
          },
          "execution_count": 9
        }
      ]
    },
    {
      "cell_type": "markdown",
      "metadata": {
        "id": "bYdGn8tsZHBQ",
        "colab_type": "text"
      },
      "source": [
        ""
      ]
    }
  ]
}