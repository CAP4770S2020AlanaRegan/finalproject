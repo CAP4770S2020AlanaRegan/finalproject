{
  "nbformat": 4,
  "nbformat_minor": 0,
  "metadata": {
    "anaconda-cloud": {},
    "kernelspec": {
      "display_name": "Python [default]",
      "language": "python",
      "name": "python3"
    },
    "language_info": {
      "codemirror_mode": {
        "name": "ipython",
        "version": 3
      },
      "file_extension": ".py",
      "mimetype": "text/x-python",
      "name": "python",
      "nbconvert_exporter": "python",
      "pygments_lexer": "ipython3",
      "version": "3.5.2"
    },
    "colab": {
      "name": "preprocessing.ipynb",
      "provenance": []
    }
  },
  "cells": [
    {
      "cell_type": "code",
      "metadata": {
        "id": "JImpPzi9tSYR",
        "colab_type": "code",
        "colab": {}
      },
      "source": [
        "# Pyspark SQL\n",
        "from pyspark.sql import SQLContext\n",
        "sqlContext = SQLContext(sc)\n",
        "from pyspark.sql.types import DoubleType\n",
        "from pyspark.sql.functions import lit, udf"
      ],
      "execution_count": 0,
      "outputs": []
    },
    {
      "cell_type": "code",
      "metadata": {
        "id": "fzNN8WvetSYx",
        "colab_type": "code",
        "colab": {}
      },
      "source": [
        "# pyspark\n",
        "from pyspark.ml import Pipeline\n",
        "from pyspark.ml.classification import NaiveBayes, DecisionTreeClassifier, RandomForestClassifier\n",
        "from pyspark.ml.evaluation import MulticlassClassificationEvaluator\n",
        "from pyspark.ml.feature import MinMaxScaler, VectorAssembler, HashingTF, IDF, RegexTokenizer, StopWordsRemover, Bucketizer, QuantileDiscretizer\n",
        "from pyspark.ml.linalg import Vectors"
      ],
      "execution_count": 0,
      "outputs": []
    },
    {
      "cell_type": "code",
      "metadata": {
        "id": "CJqcuQrItSZD",
        "colab_type": "code",
        "colab": {},
        "outputId": "bc8a054d-d713-429a-ef2f-5082306f4bc2"
      },
      "source": [
        "# Install a pip package (langdetect) in the current Jupyter kernel\n",
        "import sys\n",
        "!{sys.executable} -m pip install langdetect\n",
        "!{sys.executable} -m pip install nltk"
      ],
      "execution_count": 0,
      "outputs": [
        {
          "output_type": "stream",
          "text": [
            "Requirement already satisfied (use --upgrade to upgrade): langdetect in ./anaconda3/lib/python3.5/site-packages\n",
            "Requirement already satisfied (use --upgrade to upgrade): six in ./anaconda3/lib/python3.5/site-packages (from langdetect)\n",
            "\u001b[33mYou are using pip version 8.1.2, however version 20.0.2 is available.\n",
            "You should consider upgrading via the 'pip install --upgrade pip' command.\u001b[0m\n",
            "Requirement already satisfied (use --upgrade to upgrade): nltk in ./anaconda3/lib/python3.5/site-packages\n",
            "\u001b[33mYou are using pip version 8.1.2, however version 20.0.2 is available.\n",
            "You should consider upgrading via the 'pip install --upgrade pip' command.\u001b[0m\n"
          ],
          "name": "stdout"
        }
      ]
    },
    {
      "cell_type": "code",
      "metadata": {
        "id": "RQl6OXoatSZQ",
        "colab_type": "code",
        "colab": {},
        "outputId": "1f549c6f-12f4-4d80-894b-d54088c8b80d"
      },
      "source": [
        "# %load_ext autoreload\n",
        "# %autoreload 2\n",
        "import nltk\n",
        "nltk.download('stopwords')"
      ],
      "execution_count": 0,
      "outputs": [
        {
          "output_type": "stream",
          "text": [
            "[nltk_data] Downloading package stopwords to /home/ubuntu/nltk_data...\n",
            "[nltk_data]   Package stopwords is already up-to-date!\n"
          ],
          "name": "stdout"
        },
        {
          "output_type": "execute_result",
          "data": {
            "text/plain": [
              "True"
            ]
          },
          "metadata": {
            "tags": []
          },
          "execution_count": 4
        }
      ]
    },
    {
      "cell_type": "code",
      "metadata": {
        "id": "xiRtwrnLtSZa",
        "colab_type": "code",
        "colab": {},
        "outputId": "7a6711bd-b7fa-471a-a8fc-9cd70c45f678"
      },
      "source": [
        "nltk.download('punkt')"
      ],
      "execution_count": 0,
      "outputs": [
        {
          "output_type": "stream",
          "text": [
            "[nltk_data] Downloading package punkt to /home/ubuntu/nltk_data...\n",
            "[nltk_data]   Package punkt is already up-to-date!\n"
          ],
          "name": "stdout"
        },
        {
          "output_type": "execute_result",
          "data": {
            "text/plain": [
              "True"
            ]
          },
          "metadata": {
            "tags": []
          },
          "execution_count": 5
        }
      ]
    },
    {
      "cell_type": "code",
      "metadata": {
        "id": "ClmEq26HtSZn",
        "colab_type": "code",
        "colab": {}
      },
      "source": [
        "\n",
        "\n",
        "region = \"us-east-2\" \n",
        "sc.setSystemProperty(\"com.amazonaws.services.s3.enableV4\", \"true\")\n",
        "sc._jsc.hadoopConfiguration().set(\"fs.s3a.awsAccessKeyId\", username)\n",
        "sc._jsc.hadoopConfiguration().set(\"fs.s3a.awsSecretAccessKey\", password)\n",
        "sc._jsc.hadoopConfiguration().set(\"fs.s3a.endpoint\", \"s3.\" + region + \".amazonaws.com\")\n",
        "\n"
      ],
      "execution_count": 0,
      "outputs": []
    },
    {
      "cell_type": "code",
      "metadata": {
        "id": "ST4_reKmtSZ1",
        "colab_type": "code",
        "colab": {}
      },
      "source": [
        "df = sqlContext.read.format(\"csv\").option(\"header\", \"true\").load(s3)"
      ],
      "execution_count": 0,
      "outputs": []
    },
    {
      "cell_type": "code",
      "metadata": {
        "id": "8LXztFW2tSZ9",
        "colab_type": "code",
        "colab": {}
      },
      "source": [
        "rdd = df.rdd.map(tuple)"
      ],
      "execution_count": 0,
      "outputs": []
    },
    {
      "cell_type": "code",
      "metadata": {
        "id": "qd-2-v9FtSaD",
        "colab_type": "code",
        "colab": {}
      },
      "source": [
        "from langdetect import detect\n",
        "\n",
        "def remove_nonenglish(row):\n",
        "    # Returns True if the tuple's description is written in English, false otherwise    \n",
        "    \n",
        "    try:\n",
        "        lang=detect(row[1])\n",
        "        if (lang == 'en'): \n",
        "            return True\n",
        "        else: \n",
        "            return False\n",
        "    except:\n",
        "        return False\n",
        "\n",
        "def replace_punc_with_space(desc):\n",
        "    # Returns an updated description string with punctuation directly between two letters replaced with a space\n",
        "    \n",
        "    new_desc=''\n",
        "    \n",
        "    for i in range(len(desc)-1):\n",
        "        new_desc+=desc[i]\n",
        "        if desc[i].islower() and desc[i+1].isupper():\n",
        "            new_desc+=' '\n",
        "    \n",
        "    new_desc+=desc[-1]\n",
        "    \n",
        "    return new_desc "
      ],
      "execution_count": 0,
      "outputs": []
    },
    {
      "cell_type": "code",
      "metadata": {
        "id": "43h8E2ZUtSaQ",
        "colab_type": "code",
        "colab": {}
      },
      "source": [
        "import string\n",
        "\n",
        "def clean_words(row):\n",
        "    # Returns tuple with description cleaned \n",
        "    # Removes punctuation, tokenizes words, stems them for comparision, filters out stop words\n",
        "    \n",
        "    desc = row[1] \n",
        "    \n",
        "    desc = replace_punc_with_space(desc) #Some words in descriptions are not separated by a space, but with punctuation\n",
        "    desc = desc.lower() #make all lowercase for easy comparing\n",
        "    \n",
        "    # split into words\n",
        "    from nltk.tokenize import word_tokenize\n",
        "    words = word_tokenize(desc)\n",
        "    \n",
        "    # remove punctuation from each word\n",
        "    punc = str.maketrans('', '', string.punctuation)\n",
        "    no_punc = [word.translate(punc) for word in words]\n",
        "    \n",
        "    # remove remaining tokens that are not alphabetic\n",
        "    words_alpha = [word for word in no_punc if word.isalpha()]\n",
        "    \n",
        "    \n",
        "    # filter out stop words\n",
        "    from nltk.corpus import stopwords\n",
        "    stop_words = set(stopwords.words('english'))\n",
        "    words = [w for w in words_alpha if not w in stop_words]    \n",
        "    \n",
        "    # stem the words\n",
        "    from nltk.stem.porter import PorterStemmer\n",
        "    porter = PorterStemmer()\n",
        "    stemmed = [porter.stem(word) for word in words]\n",
        "    \n",
        "    lst = list(row)\n",
        "    lst[1] = words\n",
        "    tup = tuple(lst)\n",
        "\n",
        "    return tup\n",
        "    "
      ],
      "execution_count": 0,
      "outputs": []
    },
    {
      "cell_type": "code",
      "metadata": {
        "id": "aJovcVCbtSag",
        "colab_type": "code",
        "colab": {}
      },
      "source": [
        "def genre_to_array(row):\n",
        "    # Returns tuple with genres turned into an array\n",
        "    \n",
        "    genres = row[10]\n",
        "    glist = []\n",
        "    if(genres is not None): glist = genres.split('|')\n",
        "    if \"Nonfiction\" in glist: glist = 0.0\n",
        "    elif \"Fiction\" in glist: glist = 1.0\n",
        "    else: glist = None\n",
        "    \n",
        "    lst = list(row)\n",
        "    lst[10] = glist\n",
        "    tup = tuple(lst)\n",
        "\n",
        "    return tup"
      ],
      "execution_count": 0,
      "outputs": []
    },
    {
      "cell_type": "code",
      "metadata": {
        "id": "XOwXIdNxtSau",
        "colab_type": "code",
        "colab": {}
      },
      "source": [
        "def remove_null_genre(row):\n",
        "    if row[10] is None: return False\n",
        "    else: return True"
      ],
      "execution_count": 0,
      "outputs": []
    },
    {
      "cell_type": "code",
      "metadata": {
        "id": "3wf9sVZLtSa5",
        "colab_type": "code",
        "colab": {}
      },
      "source": [
        "rdd_filtered = rdd.filter(remove_nonenglish).map(clean_words).map(genre_to_array)"
      ],
      "execution_count": 0,
      "outputs": []
    },
    {
      "cell_type": "code",
      "metadata": {
        "id": "Lch7BQhqtSbC",
        "colab_type": "code",
        "colab": {}
      },
      "source": [
        "rdd_filtered = rdd_filtered.filter(remove_null_genre)"
      ],
      "execution_count": 0,
      "outputs": []
    },
    {
      "cell_type": "code",
      "metadata": {
        "id": "5r4IspgItSbL",
        "colab_type": "code",
        "colab": {}
      },
      "source": [
        "rdd_sample = sc.parallelize(rdd_filtered.take(100))"
      ],
      "execution_count": 0,
      "outputs": []
    },
    {
      "cell_type": "code",
      "metadata": {
        "id": "ByuBD7FvtSbT",
        "colab_type": "code",
        "colab": {},
        "outputId": "059fd60a-c744-4b81-db42-251f43c5c32f"
      },
      "source": [
        "rdd_sample.count()"
      ],
      "execution_count": 0,
      "outputs": [
        {
          "output_type": "execute_result",
          "data": {
            "text/plain": [
              "100"
            ]
          },
          "metadata": {
            "tags": []
          },
          "execution_count": 16
        }
      ]
    },
    {
      "cell_type": "code",
      "metadata": {
        "id": "9GMoFqd3tSba",
        "colab_type": "code",
        "colab": {}
      },
      "source": [
        "def dataset():\n",
        "    return rdd_sample"
      ],
      "execution_count": 0,
      "outputs": []
    },
    {
      "cell_type": "code",
      "metadata": {
        "id": "VSZdijFAtSbh",
        "colab_type": "code",
        "colab": {}
      },
      "source": [
        ""
      ],
      "execution_count": 0,
      "outputs": []
    },
    {
      "cell_type": "code",
      "metadata": {
        "id": "GRcVpA42tSbn",
        "colab_type": "code",
        "colab": {},
        "outputId": "a72ea71b-7504-41be-df22-48def9389d5a"
      },
      "source": [
        ""
      ],
      "execution_count": 0,
      "outputs": [
        {
          "output_type": "stream",
          "text": [
            "+--------------------+--------------------+\n",
            "|         description|         rawFeatures|\n",
            "+--------------------+--------------------+\n",
            "|[alaska, unforgiv...|(32,[0,1,2,3,4,5,...|\n",
            "|[house, helios, g...|(32,[0,1,2,3,4,5,...|\n",
            "|[anna, fox, lives...|(32,[1,2,3,5,6,7,...|\n",
            "|[killed, motherth...|(32,[0,1,2,4,5,6,...|\n",
            "|[newlyweds, celes...|(32,[1,2,4,5,6,7,...|\n",
            "|[read, book, make...|(32,[0,1,2,3,4,5,...|\n",
            "|[knew, date, deat...|(32,[1,2,3,4,5,6,...|\n",
            "|[unspeakable, cri...|(32,[0,1,2,3,5,6,...|\n",
            "|[heartwarming, re...|(32,[0,1,2,3,4,5,...|\n",
            "|[years, rumors, h...|(32,[1,2,3,4,5,8,...|\n",
            "+--------------------+--------------------+\n",
            "only showing top 10 rows\n",
            "\n"
          ],
          "name": "stdout"
        }
      ]
    },
    {
      "cell_type": "code",
      "metadata": {
        "id": "h_v5NqqVtSbu",
        "colab_type": "code",
        "colab": {}
      },
      "source": [
        ""
      ],
      "execution_count": 0,
      "outputs": []
    },
    {
      "cell_type": "code",
      "metadata": {
        "id": "wV6CkQoHtSb1",
        "colab_type": "code",
        "colab": {},
        "outputId": "35e73d4d-4a04-4a6b-ba1b-0e6ad66399bc"
      },
      "source": [
        ""
      ],
      "execution_count": 0,
      "outputs": [
        {
          "output_type": "stream",
          "text": [
            "+--------------------+------+--------------------+\n",
            "|               title|genres|            features|\n",
            "+--------------------+------+--------------------+\n",
            "|     The Great Alone|   1.0|(32,[0,1,2,3,4,5,...|\n",
            "|               Circe|   1.0|(32,[0,1,2,3,4,5,...|\n",
            "|The Woman in the ...|   1.0|(32,[1,2,3,5,6,7,...|\n",
            "|Children of Blood...|   1.0|(32,[0,1,2,4,5,6,...|\n",
            "|An American Marriage|   1.0|(32,[1,2,4,5,6,7,...|\n",
            "| The Wife Between Us|   1.0|(32,[0,1,2,3,4,5,...|\n",
            "|    The Immortalists|   1.0|(32,[1,2,3,4,5,6,...|\n",
            "|        The Outsider|   1.0|(32,[0,1,2,3,5,6,...|\n",
            "|   The Kiss Quotient|   1.0|(32,[0,1,2,3,4,5,...|\n",
            "|Where the Crawdad...|   1.0|(32,[1,2,3,4,5,8,...|\n",
            "+--------------------+------+--------------------+\n",
            "only showing top 10 rows\n",
            "\n"
          ],
          "name": "stdout"
        }
      ]
    },
    {
      "cell_type": "code",
      "metadata": {
        "id": "N6y7Vg1YtSb9",
        "colab_type": "code",
        "colab": {}
      },
      "source": [
        ""
      ],
      "execution_count": 0,
      "outputs": []
    },
    {
      "cell_type": "code",
      "metadata": {
        "id": "zQ322M_HtScD",
        "colab_type": "code",
        "colab": {}
      },
      "source": [
        ""
      ],
      "execution_count": 0,
      "outputs": []
    },
    {
      "cell_type": "code",
      "metadata": {
        "id": "BkHUpJ2mtScK",
        "colab_type": "code",
        "colab": {}
      },
      "source": [
        ""
      ],
      "execution_count": 0,
      "outputs": []
    },
    {
      "cell_type": "code",
      "metadata": {
        "id": "JmUI810ftScS",
        "colab_type": "code",
        "colab": {},
        "outputId": "6c797f26-2cb0-4933-8ae7-dc2a16821177"
      },
      "source": [
        ""
      ],
      "execution_count": 0,
      "outputs": [
        {
          "output_type": "stream",
          "text": [
            "+----------+------+--------------------+\n",
            "|prediction|genres|            features|\n",
            "+----------+------+--------------------+\n",
            "|       1.0|   1.0|(32,[1,2,3,5,6,7,...|\n",
            "|       0.0|   1.0|(32,[0,1,2,4,5,6,...|\n",
            "|       1.0|   1.0|(32,[0,1,2,3,4,5,...|\n",
            "|       1.0|   1.0|(32,[1,2,3,5,6,7,...|\n",
            "|       1.0|   1.0|(32,[0,1,2,3,5,6,...|\n",
            "|       1.0|   1.0|(32,[0,1,2,3,4,5,...|\n",
            "|       1.0|   1.0|(32,[0,2,3,4,5,6,...|\n",
            "|       1.0|   1.0|(32,[0,1,2,3,4,5,...|\n",
            "|       1.0|   1.0|(32,[0,2,4,5,6,7,...|\n",
            "|       1.0|   1.0|(32,[0,1,3,5,6,7,...|\n",
            "+----------+------+--------------------+\n",
            "only showing top 10 rows\n",
            "\n"
          ],
          "name": "stdout"
        }
      ]
    },
    {
      "cell_type": "code",
      "metadata": {
        "id": "7UXlticttScc",
        "colab_type": "code",
        "colab": {},
        "outputId": "2e5a0a77-a8c3-4be1-94fb-61784abb61c4"
      },
      "source": [
        ""
      ],
      "execution_count": 0,
      "outputs": [
        {
          "output_type": "stream",
          "text": [
            "0.7317073170731707\n"
          ],
          "name": "stdout"
        }
      ]
    },
    {
      "cell_type": "code",
      "metadata": {
        "id": "UEyfWgKZtScm",
        "colab_type": "code",
        "colab": {}
      },
      "source": [
        ""
      ],
      "execution_count": 0,
      "outputs": []
    },
    {
      "cell_type": "code",
      "metadata": {
        "id": "p48JrE2ttScr",
        "colab_type": "code",
        "colab": {}
      },
      "source": [
        ""
      ],
      "execution_count": 0,
      "outputs": []
    },
    {
      "cell_type": "code",
      "metadata": {
        "id": "D7XkJW2WtScw",
        "colab_type": "code",
        "colab": {}
      },
      "source": [
        ""
      ],
      "execution_count": 0,
      "outputs": []
    },
    {
      "cell_type": "code",
      "metadata": {
        "id": "6g6e8V7wtSc2",
        "colab_type": "code",
        "colab": {}
      },
      "source": [
        ""
      ],
      "execution_count": 0,
      "outputs": []
    }
  ]
}