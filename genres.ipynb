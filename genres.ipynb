{
 "cells": [
  {
   "cell_type": "code",
   "execution_count": 1,
   "metadata": {
    "collapsed": false,
    "scrolled": true
   },
   "outputs": [
    {
     "name": "stdout",
     "output_type": "stream",
     "text": [
      "Requirement already satisfied (use --upgrade to upgrade): langdetect in ./anaconda3/lib/python3.5/site-packages\n",
      "Requirement already satisfied (use --upgrade to upgrade): six in ./anaconda3/lib/python3.5/site-packages (from langdetect)\n",
      "\u001b[33mYou are using pip version 8.1.2, however version 20.0.2 is available.\n",
      "You should consider upgrading via the 'pip install --upgrade pip' command.\u001b[0m\n",
      "Requirement already satisfied (use --upgrade to upgrade): nltk in ./anaconda3/lib/python3.5/site-packages\n",
      "\u001b[33mYou are using pip version 8.1.2, however version 20.0.2 is available.\n",
      "You should consider upgrading via the 'pip install --upgrade pip' command.\u001b[0m\n",
      "[nltk_data] Downloading package stopwords to /home/ubuntu/nltk_data...\n",
      "[nltk_data]   Package stopwords is already up-to-date!\n",
      "[nltk_data] Downloading package punkt to /home/ubuntu/nltk_data...\n",
      "[nltk_data]   Package punkt is already up-to-date!\n"
     ]
    }
   ],
   "source": [
    "%run ./preprocessing.ipynb"
   ]
  },
  {
   "cell_type": "code",
   "execution_count": 2,
   "metadata": {
    "collapsed": true
   },
   "outputs": [],
   "source": [
    "dataset = dataset()"
   ]
  },
  {
   "cell_type": "code",
   "execution_count": null,
   "metadata": {
    "collapsed": false
   },
   "outputs": [
    {
     "name": "stdout",
     "output_type": "stream",
     "text": [
      "root\n",
      " |-- author: string (nullable = true)\n",
      " |-- description: array (nullable = true)\n",
      " |    |-- element: string (containsNull = true)\n",
      " |-- rating: string (nullable = true)\n",
      " |-- ratingCount: string (nullable = true)\n",
      " |-- title: string (nullable = true)\n",
      " |-- genres: double (nullable = true)\n",
      " |-- genre: double (nullable = true)\n",
      "\n",
      "+--------------------+--------------------+\n",
      "|         description|         rawFeatures|\n",
      "+--------------------+--------------------+\n",
      "|[alaska, unforgiv...|(32,[0,1,2,3,4,5,...|\n",
      "|[house, helios, g...|(32,[0,1,2,3,4,5,...|\n",
      "|[anna, fox, lives...|(32,[1,2,3,5,6,7,...|\n",
      "|[killed, motherth...|(32,[0,1,2,4,5,6,...|\n",
      "|[newlyweds, celes...|(32,[1,2,4,5,6,7,...|\n",
      "|[read, book, make...|(32,[0,1,2,3,4,5,...|\n",
      "|[knew, date, deat...|(32,[1,2,3,4,5,6,...|\n",
      "|[unspeakable, cri...|(32,[0,1,2,3,5,6,...|\n",
      "|[heartwarming, re...|(32,[0,1,2,3,4,5,...|\n",
      "|[years, rumors, h...|(32,[1,2,3,4,5,8,...|\n",
      "+--------------------+--------------------+\n",
      "only showing top 10 rows\n",
      "\n",
      "+--------------------+------+--------------------+\n",
      "|               title|genres|            features|\n",
      "+--------------------+------+--------------------+\n",
      "|     The Great Alone|   1.0|(32,[0,1,2,3,4,5,...|\n",
      "|               Circe|   1.0|(32,[0,1,2,3,4,5,...|\n",
      "|The Woman in the ...|   1.0|(32,[1,2,3,5,6,7,...|\n",
      "|Children of Blood...|   1.0|(32,[0,1,2,4,5,6,...|\n",
      "|An American Marriage|   1.0|(32,[1,2,4,5,6,7,...|\n",
      "| The Wife Between Us|   1.0|(32,[0,1,2,3,4,5,...|\n",
      "|    The Immortalists|   1.0|(32,[1,2,3,4,5,6,...|\n",
      "|        The Outsider|   1.0|(32,[0,1,2,3,5,6,...|\n",
      "|   The Kiss Quotient|   1.0|(32,[0,1,2,3,4,5,...|\n",
      "|Where the Crawdad...|   1.0|(32,[1,2,3,4,5,8,...|\n",
      "+--------------------+------+--------------------+\n",
      "only showing top 10 rows\n",
      "\n"
     ]
    }
   ],
   "source": [
    "booksdf = dataset.toDF(['author', 'description', 'edition', 'format', \n",
    "                    'isbn13', 'pages', 'rating', 'ratingCount', \n",
    "                    'review_count', 'title', 'genres', 'image_url']) \\\n",
    "    .drop(\"edition\") \\\n",
    "    .drop(\"format\") \\\n",
    "    .drop(\"pages\") \\\n",
    "    .drop(\"isbn13\") \\\n",
    "    .drop(\"review_count\") \\\n",
    "    .drop(\"image_url\")\n",
    "\n",
    "booksdf = booksdf.withColumn(\"genre\", booksdf[\"genres\"]) \n",
    "booksdf = booksdf.dropna(subset=(\"genres\", 'genre'))\n",
    "booksdf.printSchema()\n",
    "\n",
    "hashingTF = HashingTF(inputCol=\"description\", outputCol=\"rawFeatures\", numFeatures=32)\n",
    "featurizedData = hashingTF.transform(booksdf)\n",
    "\n",
    "featurizedData.select('description', 'rawFeatures').show(10)\n",
    "\n",
    "idf = IDF(inputCol=\"rawFeatures\", outputCol=\"features\")\n",
    "idfModel = idf.fit(featurizedData)\n",
    "rescaledData = idfModel.transform(featurizedData)\n",
    "\n",
    "rescaledData.select(\"title\", \"genres\", \"features\").show(10)\n",
    "\n",
    "(trainingData, testData) = rescaledData.randomSplit([0.7, 0.3])\n",
    "\n",
    "evaluator = MulticlassClassificationEvaluator(labelCol=\"genre\", predictionCol=\"prediction\", metricName=\"accuracy\")\n",
    "\n",
    "dt = DecisionTreeClassifier(labelCol=\"genre\", featuresCol=\"features\", cacheNodeIds = True, checkpointInterval = 10, impurity = 'entropy')\n",
    "dtModel = dt.fit(trainingData)\n",
    "\n",
    "\n",
    "dtPredictions = dtModel.transform(testData)\n",
    "dtPredictions.select(\"prediction\", \"genres\", \"features\").show(10)\n",
    "\n",
    "dtAccuracy = evaluator.evaluate(dtPredictions)\n",
    "print(dtAccuracy)\n"
   ]
  },
  {
   "cell_type": "code",
   "execution_count": null,
   "metadata": {
    "collapsed": true
   },
   "outputs": [],
   "source": []
  }
 ],
 "metadata": {
  "anaconda-cloud": {},
  "kernelspec": {
   "display_name": "Python [default]",
   "language": "python",
   "name": "python3"
  },
  "language_info": {
   "codemirror_mode": {
    "name": "ipython",
    "version": 3
   },
   "file_extension": ".py",
   "mimetype": "text/x-python",
   "name": "python",
   "nbconvert_exporter": "python",
   "pygments_lexer": "ipython3",
   "version": "3.5.2"
  }
 },
 "nbformat": 4,
 "nbformat_minor": 1
}
