{
  "nbformat": 4,
  "nbformat_minor": 0,
  "metadata": {
    "colab": {
      "name": "genres.ipynb",
      "provenance": [],
      "collapsed_sections": []
    },
    "kernelspec": {
      "name": "python3",
      "display_name": "Python 3"
    }
  },
  "cells": [
    {
      "cell_type": "code",
      "metadata": {
        "id": "1_GRygn3MCFk",
        "colab_type": "code",
        "colab": {}
      },
      "source": [
        "# Pyspark SQL\n",
        "from pyspark.sql import SQLContext\n",
        "sqlContext = SQLContext(sc)"
      ],
      "execution_count": 0,
      "outputs": []
    },
    {
      "cell_type": "code",
      "metadata": {
        "id": "SOet46B2MNT0",
        "colab_type": "code",
        "colab": {}
      },
      "source": [
        "# scikit\n",
        "import sklearn\n",
        "from scipy.io import loadmat\n",
        "from sklearn.naive_bayes import MultinomialNB"
      ],
      "execution_count": 0,
      "outputs": []
    },
    {
      "cell_type": "code",
      "metadata": {
        "id": "IZQ_DGmPMO7w",
        "colab_type": "code",
        "colab": {}
      },
      "source": [
        "# Install a pip package (langdetect) in the current Jupyter kernel\n",
        "import sys\n",
        "!{sys.executable} -m pip install langdetect\n",
        "!{sys.executable} -m pip install nltk"
      ],
      "execution_count": 0,
      "outputs": []
    },
    {
      "cell_type": "code",
      "metadata": {
        "id": "80-dFirFMO-j",
        "colab_type": "code",
        "colab": {}
      },
      "source": [
        "# %load_ext autoreload\n",
        "# %autoreload 2\n",
        "import nltk\n",
        "nltk.download('stopwords')"
      ],
      "execution_count": 0,
      "outputs": []
    },
    {
      "cell_type": "code",
      "metadata": {
        "id": "jUsxhvfhMPFb",
        "colab_type": "code",
        "colab": {}
      },
      "source": [
        "nltk.download('punkt')"
      ],
      "execution_count": 0,
      "outputs": []
    },
    {
      "cell_type": "code",
      "metadata": {
        "id": "wl5fVfK2MPRa",
        "colab_type": "code",
        "colab": {}
      },
      "source": [
        "# Login information\n",
        "# username = # AWS Username\n",
        "# password = # AWS Password\n",
        "# region = \"us-east-1\" # Change if different from your AWS region"
      ],
      "execution_count": 0,
      "outputs": []
    },
    {
      "cell_type": "code",
      "metadata": {
        "id": "CMnHeyPAMPhR",
        "colab_type": "code",
        "colab": {}
      },
      "source": [
        "sc.setSystemProperty(\"com.amazonaws.services.s3.enableV4\", \"true\")\n",
        "sc._jsc.hadoopConfiguration().set(\"fs.s3a.awsAccessKeyId\", username)\n",
        "sc._jsc.hadoopConfiguration().set(\"fs.s3a.awsSecretAccessKey\", password)\n",
        "sc._jsc.hadoopConfiguration().set(\"fs.s3a.endpoint\", \"s3.\" + region + \".amazonaws.com\")"
      ],
      "execution_count": 0,
      "outputs": []
    },
    {
      "cell_type": "code",
      "metadata": {
        "id": "odhI9vrdMP46",
        "colab_type": "code",
        "colab": {}
      },
      "source": [
        "df = sqlContext.read.format(\"csv\").option(\"header\", \"true\").load(s3)"
      ],
      "execution_count": 0,
      "outputs": []
    },
    {
      "cell_type": "code",
      "metadata": {
        "id": "zwCJFb-RMPPT",
        "colab_type": "code",
        "colab": {}
      },
      "source": [
        "rdd = df.rdd.map(tuple)"
      ],
      "execution_count": 0,
      "outputs": []
    },
    {
      "cell_type": "code",
      "metadata": {
        "id": "0O_vfRH5MPLx",
        "colab_type": "code",
        "colab": {}
      },
      "source": [
        "from langdetect import detect\n",
        "\n",
        "def remove_nonenglish(row):\n",
        "    # Returns True if the tuple's description is written in English, false otherwise    \n",
        "    \n",
        "    try:\n",
        "        lang=detect(row[1])\n",
        "        if (lang == 'en'): \n",
        "            return True\n",
        "        else: \n",
        "            return False\n",
        "    except:\n",
        "        return False\n",
        "\n",
        "def replace_punc_with_space(desc):\n",
        "    # Returns an updated description string with punctuation directly between two letters replaced with a space\n",
        "    \n",
        "    new_desc=''\n",
        "    \n",
        "    for i in range(len(desc)-1):\n",
        "        new_desc+=desc[i]\n",
        "        if desc[i].islower() and desc[i+1].isupper():\n",
        "            new_desc+=' '\n",
        "    \n",
        "    new_desc+=desc[-1]\n",
        "    \n",
        "    return new_desc "
      ],
      "execution_count": 0,
      "outputs": []
    },
    {
      "cell_type": "code",
      "metadata": {
        "id": "3vpakAWcMlKS",
        "colab_type": "code",
        "colab": {}
      },
      "source": [
        "import string\n",
        "\n",
        "def clean_words(row):\n",
        "    # Returns tuple with description cleaned \n",
        "    # Removes punctuation, tokenizes words, stems them for comparision, filters out stop words\n",
        "    \n",
        "    desc = row[1] \n",
        "    \n",
        "    desc = replace_punc_with_space(desc) #Some words in descriptions are not separated by a space, but with punctuation\n",
        "    desc = desc.lower() #make all lowercase for easy comparing\n",
        "    \n",
        "    # split into words\n",
        "    from nltk.tokenize import word_tokenize\n",
        "    words = word_tokenize(desc)\n",
        "    \n",
        "    # remove punctuation from each word\n",
        "    punc = str.maketrans('', '', string.punctuation)\n",
        "    no_punc = [word.translate(punc) for word in words]\n",
        "    \n",
        "    # remove remaining tokens that are not alphabetic\n",
        "    words_alpha = [word for word in no_punc if word.isalpha()]\n",
        "    \n",
        "    \n",
        "    # filter out stop words\n",
        "    from nltk.corpus import stopwords\n",
        "    stop_words = set(stopwords.words('english'))\n",
        "    words = [w for w in words_alpha if not w in stop_words]    \n",
        "    \n",
        "    # stem the words\n",
        "    from nltk.stem.porter import PorterStemmer\n",
        "    porter = PorterStemmer()\n",
        "    stemmed = [porter.stem(word) for word in words]\n",
        "    \n",
        "    lst = list(row)\n",
        "    lst[1] = words\n",
        "    tup = tuple(lst)\n",
        "\n",
        "    return tup\n",
        "    "
      ],
      "execution_count": 0,
      "outputs": []
    },
    {
      "cell_type": "code",
      "metadata": {
        "id": "AMuA1JJhMlZU",
        "colab_type": "code",
        "colab": {}
      },
      "source": [
        "def genre_to_array(row):\n",
        "    # Returns tuple with genres turned into an array\n",
        "    \n",
        "    genres = row[10]\n",
        "    glist = []\n",
        "    if(genres is not None): glist = genres.split('|')\n",
        "    if \"Nonfiction\" in glist: glist = 0.0\n",
        "    elif \"Fiction\" in glist: glist = 1.0\n",
        "    else: glist = None\n",
        "    \n",
        "    lst = list(row)\n",
        "    lst[10] = glist\n",
        "    tup = tuple(lst)\n",
        "\n",
        "    return tup"
      ],
      "execution_count": 0,
      "outputs": []
    },
    {
      "cell_type": "code",
      "metadata": {
        "id": "-arorZx3MlWl",
        "colab_type": "code",
        "colab": {}
      },
      "source": [
        "def remove_null_genre(row):\n",
        "    if row[10] is None: return False\n",
        "    else: return True"
      ],
      "execution_count": 0,
      "outputs": []
    },
    {
      "cell_type": "code",
      "metadata": {
        "id": "FGoEO2qeMlUX",
        "colab_type": "code",
        "colab": {}
      },
      "source": [
        "rdd_filtered = rdd.filter(remove_nonenglish).map(clean_words).map(genre_to_array)"
      ],
      "execution_count": 0,
      "outputs": []
    },
    {
      "cell_type": "code",
      "metadata": {
        "id": "D0LhLIZCMlR6",
        "colab_type": "code",
        "colab": {}
      },
      "source": [
        "rdd_filtered = rdd_filtered.filter(remove_null_genre)"
      ],
      "execution_count": 0,
      "outputs": []
    },
    {
      "cell_type": "code",
      "metadata": {
        "id": "feOWn0uHMlPH",
        "colab_type": "code",
        "colab": {}
      },
      "source": [
        "# replace with toDF with the smaller source data\n",
        "rdd_sample = sc.parallelize(rdd_filtered.take(100))"
      ],
      "execution_count": 0,
      "outputs": []
    },
    {
      "cell_type": "code",
      "metadata": {
        "id": "MYzFSoirMPC3",
        "colab_type": "code",
        "colab": {}
      },
      "source": [
        "rdd_sample.count()"
      ],
      "execution_count": 0,
      "outputs": []
    },
    {
      "cell_type": "code",
      "metadata": {
        "id": "qx6QUfYiNB1o",
        "colab_type": "code",
        "colab": {}
      },
      "source": [
        "booksdf = rdd_sample.toDF(['author', 'description', 'edition', 'format', \n",
        "                    'isbn13', 'pages', 'rating', 'ratingCount', \n",
        "                    'review_count', 'title', 'genres', 'image_url']) \\\n",
        "    .drop(\"edition\") \\\n",
        "    .drop(\"format\") \\\n",
        "    .drop(\"pages\") \\\n",
        "    .drop(\"isbn13\") \\\n",
        "    .drop(\"review_count\") \\\n",
        "    .drop(\"image_url\")\n",
        "\n",
        "booksdf = booksdf.withColumn(\"genre\", booksdf[\"genres\"]) \n",
        "booksdf = booksdf.dropna(subset=(\"genres\", 'genre'))\n",
        "booksdf.printSchema()"
      ],
      "execution_count": 0,
      "outputs": []
    },
    {
      "cell_type": "code",
      "metadata": {
        "id": "-7bZwgbINCBm",
        "colab_type": "code",
        "colab": {}
      },
      "source": [
        "hashingTF = HashingTF(inputCol=\"description\", outputCol=\"rawFeatures\", numFeatures=32)\n",
        "featurizedData = hashingTF.transform(booksdf)"
      ],
      "execution_count": 0,
      "outputs": []
    },
    {
      "cell_type": "code",
      "metadata": {
        "id": "uxmOD_uPNCL9",
        "colab_type": "code",
        "colab": {}
      },
      "source": [
        "featurizedData.select('description', 'rawFeatures').show(10)\n"
      ],
      "execution_count": 0,
      "outputs": []
    },
    {
      "cell_type": "code",
      "metadata": {
        "id": "JPE8f24UNCJC",
        "colab_type": "code",
        "colab": {}
      },
      "source": [
        "idf = IDF(inputCol=\"rawFeatures\", outputCol=\"features\")\n",
        "idfModel = idf.fit(featurizedData)\n",
        "rescaledData = idfModel.transform(featurizedData)"
      ],
      "execution_count": 0,
      "outputs": []
    },
    {
      "cell_type": "code",
      "metadata": {
        "id": "EyiGv43LNLrY",
        "colab_type": "code",
        "colab": {}
      },
      "source": [
        "rescaledData.select(\"title\", \"genres\", \"features\").show(10)"
      ],
      "execution_count": 0,
      "outputs": []
    },
    {
      "cell_type": "code",
      "metadata": {
        "id": "uMsp8S0nNL5y",
        "colab_type": "code",
        "colab": {}
      },
      "source": [
        "(trainingData, testData) = rescaledData.randomSplit([0.7, 0.3])"
      ],
      "execution_count": 0,
      "outputs": []
    },
    {
      "cell_type": "code",
      "metadata": {
        "id": "oN8mferINL-y",
        "colab_type": "code",
        "colab": {}
      },
      "source": [
        "evaluator = MulticlassClassificationEvaluator(labelCol=\"genre\", predictionCol=\"prediction\", metricName=\"accuracy\")"
      ],
      "execution_count": 0,
      "outputs": []
    },
    {
      "cell_type": "code",
      "metadata": {
        "id": "w7m9ICCZNL2s",
        "colab_type": "code",
        "colab": {}
      },
      "source": [
        "dtPredictions = dtModel.transform(testData)\n",
        "dtPredictions.select(\"prediction\", \"genres\", \"features\").show(10)"
      ],
      "execution_count": 0,
      "outputs": []
    },
    {
      "cell_type": "code",
      "metadata": {
        "id": "e7twCVX6NLzC",
        "colab_type": "code",
        "colab": {}
      },
      "source": [
        "dtAccuracy = evaluator.evaluate(dtPredictions)\n",
        "print(dtAccuracy)"
      ],
      "execution_count": 0,
      "outputs": []
    },
    {
      "cell_type": "code",
      "metadata": {
        "id": "fTBQjY5TNLvn",
        "colab_type": "code",
        "colab": {}
      },
      "source": [
        "dt = DecisionTreeClassifier(labelCol=\"genres\", featuresCol=\"features\", cacheNodeIds = True, checkpointInterval = 10, impurity = 'entropy')\n",
        "dtModel = dt.fit(trainingData)"
      ],
      "execution_count": 0,
      "outputs": []
    },
    {
      "cell_type": "code",
      "metadata": {
        "id": "FC8wX-0NNZaB",
        "colab_type": "code",
        "colab": {}
      },
      "source": [
        ""
      ],
      "execution_count": 0,
      "outputs": []
    },
    {
      "cell_type": "code",
      "metadata": {
        "id": "kH_tm3oZNZfL",
        "colab_type": "code",
        "colab": {}
      },
      "source": [
        ""
      ],
      "execution_count": 0,
      "outputs": []
    },
    {
      "cell_type": "code",
      "metadata": {
        "id": "bO5SHD8DNZm6",
        "colab_type": "code",
        "colab": {}
      },
      "source": [
        ""
      ],
      "execution_count": 0,
      "outputs": []
    },
    {
      "cell_type": "code",
      "metadata": {
        "id": "iW7PmKEoNZw_",
        "colab_type": "code",
        "colab": {}
      },
      "source": [
        ""
      ],
      "execution_count": 0,
      "outputs": []
    },
    {
      "cell_type": "code",
      "metadata": {
        "id": "C2B4Y_NANCGs",
        "colab_type": "code",
        "colab": {}
      },
      "source": [
        ""
      ],
      "execution_count": 0,
      "outputs": []
    }
  ]
}